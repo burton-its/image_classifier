{
  "nbformat": 4,
  "nbformat_minor": 0,
  "metadata": {
    "colab": {
      "name": "q2_ridge_lasso.ipynb",
      "provenance": [],
      "collapsed_sections": [],
      "authorship_tag": "ABX9TyPdMioC8ZNFNNXgl8DGBTlV",
      "include_colab_link": true
    },
    "kernelspec": {
      "name": "python3",
      "display_name": "Python 3"
    },
    "language_info": {
      "name": "python"
    }
  },
  "cells": [
    {
      "cell_type": "markdown",
      "metadata": {
        "id": "view-in-github",
        "colab_type": "text"
      },
      "source": [
        "<a href=\"https://colab.research.google.com/github/burton-its/image_classifier/blob/main/q2_ridge_lasso.ipynb\" target=\"_parent\"><img src=\"https://colab.research.google.com/assets/colab-badge.svg\" alt=\"Open In Colab\"/></a>"
      ]
    },
    {
      "cell_type": "code",
      "metadata": {
        "id": "UioFIhrPcrbK"
      },
      "source": [
        "from sklearn.model_selection import train_test_split\n",
        "from sklearn.metrics import confusion_matrix\n",
        "from sklearn.linear_model import RidgeClassifier\n",
        "import numpy as np\n",
        "import pandas as pd\n",
        "import matplotlib.pyplot as plt\n",
        "from sklearn import metrics\n",
        "from sklearn.metrics import ConfusionMatrixDisplay\n",
        "from sklearn.linear_model import Lasso\n",
        "import seaborn as sns\n",
        "\n",
        "import tensorflow as tf\n",
        "\n",
        "from tensorflow import keras\n",
        "from tensorflow.keras import layers\n",
        "from tensorflow.keras.models import Sequential\n"
      ],
      "execution_count": null,
      "outputs": []
    },
    {
      "cell_type": "code",
      "metadata": {
        "colab": {
          "base_uri": "https://localhost:8080/"
        },
        "id": "yW1vBFPF3aDk",
        "outputId": "8824282f-e68c-4fe5-a5ae-150d1711e8da"
      },
      "source": [
        "#read input data (labels read as float, need to be converted to int)\n",
        "input_data = pd.read_csv('imgnorm01.csv', index_col = None)\n",
        "input_data['f64'].astype(int)"
      ],
      "execution_count": null,
      "outputs": [
        {
          "output_type": "execute_result",
          "data": {
            "text/plain": [
              "0       1\n",
              "1       0\n",
              "2       1\n",
              "3       0\n",
              "4       1\n",
              "       ..\n",
              "2537    1\n",
              "2538    0\n",
              "2539    1\n",
              "2540    0\n",
              "2541    1\n",
              "Name: f64, Length: 2542, dtype: int64"
            ]
          },
          "metadata": {},
          "execution_count": 2
        }
      ]
    },
    {
      "cell_type": "code",
      "metadata": {
        "id": "uVtKdwwl3qg_"
      },
      "source": [
        "#reponse set astype integer\n",
        "y = input_data['f64'].astype(int)\n"
      ],
      "execution_count": null,
      "outputs": []
    },
    {
      "cell_type": "code",
      "metadata": {
        "id": "I73pokKJ4Spp"
      },
      "source": [
        "# features//dropping labels\n",
        "input_data.drop('f64', axis = 1, inplace = True)"
      ],
      "execution_count": null,
      "outputs": []
    },
    {
      "cell_type": "code",
      "metadata": {
        "id": "5Mo-r3fTEexg",
        "colab": {
          "base_uri": "https://localhost:8080/"
        },
        "outputId": "510111c6-9751-46d0-ea0a-1f6ba3f5375b"
      },
      "source": [
        "input_data.columns"
      ],
      "execution_count": null,
      "outputs": [
        {
          "output_type": "execute_result",
          "data": {
            "text/plain": [
              "Index(['Unnamed: 0', 'f0', 'f1', 'f2', 'f3', 'f4', 'f5', 'f6', 'f7', 'f8',\n",
              "       'f9', 'f10', 'f11', 'f12', 'f13', 'f14', 'f15', 'f16', 'f17', 'f18',\n",
              "       'f19', 'f20', 'f21', 'f22', 'f23', 'f24', 'f25', 'f26', 'f27', 'f28',\n",
              "       'f29', 'f30', 'f31', 'f32', 'f33', 'f34', 'f35', 'f36', 'f37', 'f38',\n",
              "       'f39', 'f40', 'f41', 'f42', 'f43', 'f44', 'f45', 'f46', 'f47', 'f48',\n",
              "       'f49', 'f50', 'f51', 'f52', 'f53', 'f54', 'f55', 'f56', 'f57', 'f58',\n",
              "       'f59', 'f60', 'f61', 'f62', 'f63'],\n",
              "      dtype='object')"
            ]
          },
          "metadata": {},
          "execution_count": 5
        }
      ]
    },
    {
      "cell_type": "code",
      "metadata": {
        "id": "UlPfTxa83PVp"
      },
      "source": [
        "input_data.drop('Unnamed: 0', axis = 1, inplace = True)"
      ],
      "execution_count": null,
      "outputs": []
    },
    {
      "cell_type": "code",
      "metadata": {
        "colab": {
          "base_uri": "https://localhost:8080/",
          "height": 350
        },
        "id": "F2uBoUuAE0db",
        "outputId": "be6e3f9c-b15b-477e-c5de-d5df59760752"
      },
      "source": [
        "sns.countplot(y)"
      ],
      "execution_count": null,
      "outputs": [
        {
          "output_type": "stream",
          "name": "stderr",
          "text": [
            "/usr/local/lib/python3.7/dist-packages/seaborn/_decorators.py:43: FutureWarning: Pass the following variable as a keyword arg: x. From version 0.12, the only valid positional argument will be `data`, and passing other arguments without an explicit keyword will result in an error or misinterpretation.\n",
            "  FutureWarning\n"
          ]
        },
        {
          "output_type": "execute_result",
          "data": {
            "text/plain": [
              "<matplotlib.axes._subplots.AxesSubplot at 0x7f4efe5e6650>"
            ]
          },
          "metadata": {},
          "execution_count": 7
        },
        {
          "output_type": "display_data",
          "data": {
            "image/png": "[encoded data removed]",
            "text/plain": [
              "<Figure size 432x288 with 1 Axes>"
            ]
          },
          "metadata": {
            "needs_background": "light"
          }
        }
      ]
    },
    {
      "cell_type": "code",
      "metadata": {
        "id": "wYRKDph18R64"
      },
      "source": [
        "X = input_data"
      ],
      "execution_count": null,
      "outputs": []
    },
    {
      "cell_type": "code",
      "metadata": {
        "colab": {
          "base_uri": "https://localhost:8080/",
          "height": 296
        },
        "id": "HkWZ86B9Gn_y",
        "outputId": "7158b3c6-bdd7-4bb7-e733-4be3410dab9b"
      },
      "source": [
        "#checking distribution of a random feature\n",
        "sns.histplot(X['f10'])\n",
        "plt.show"
      ],
      "execution_count": null,
      "outputs": [
        {
          "output_type": "execute_result",
          "data": {
            "text/plain": [
              "<function matplotlib.pyplot.show>"
            ]
          },
          "metadata": {},
          "execution_count": 9
        },
        {
          "output_type": "display_data",
          "data": {
            "image/png": "[encoded data removed]",
            "text/plain": [
              "<Figure size 432x288 with 1 Axes>"
            ]
          },
          "metadata": {
            "needs_background": "light"
          }
        }
      ]
    },
    {
      "cell_type": "code",
      "metadata": {
        "colab": {
          "base_uri": "https://localhost:8080/",
          "height": 296
        },
        "id": "nwyQNnZVG5xr",
        "outputId": "0eaa5640-ee4e-4cbc-afb2-88231fb14b0c"
      },
      "source": [
        "#checking distribution of a random feature (2)\n",
        "sns.histplot(X['f30'])\n",
        "plt.show"
      ],
      "execution_count": null,
      "outputs": [
        {
          "output_type": "execute_result",
          "data": {
            "text/plain": [
              "<function matplotlib.pyplot.show>"
            ]
          },
          "metadata": {},
          "execution_count": 10
        },
        {
          "output_type": "display_data",
          "data": {
            "image/png": "[encoded data removed]",
            "text/plain": [
              "<Figure size 432x288 with 1 Axes>"
            ]
          },
          "metadata": {
            "needs_background": "light"
          }
        }
      ]
    },
    {
      "cell_type": "code",
      "metadata": {
        "colab": {
          "base_uri": "https://localhost:8080/"
        },
        "id": "TQOQfQL38Txa",
        "outputId": "092ab36a-4f2a-4d8b-e9a5-60cb5a4b474e"
      },
      "source": [
        "X.shape"
      ],
      "execution_count": null,
      "outputs": [
        {
          "output_type": "execute_result",
          "data": {
            "text/plain": [
              "(2542, 64)"
            ]
          },
          "metadata": {},
          "execution_count": 11
        }
      ]
    },
    {
      "cell_type": "code",
      "metadata": {
        "colab": {
          "base_uri": "https://localhost:8080/"
        },
        "id": "HOjJQDnx8U5M",
        "outputId": "c9d6f758-8392-4f61-9076-956839970211"
      },
      "source": [
        "y.shape"
      ],
      "execution_count": null,
      "outputs": [
        {
          "output_type": "execute_result",
          "data": {
            "text/plain": [
              "(2542,)"
            ]
          },
          "metadata": {},
          "execution_count": 12
        }
      ]
    },
    {
      "cell_type": "code",
      "metadata": {
        "id": "xWPFpMzs8wCq"
      },
      "source": [
        "# generate feature matrix using np array\n",
        "tmp = np.array(X)\n",
        "X1 = tmp[:,0:65]"
      ],
      "execution_count": null,
      "outputs": []
    },
    {
      "cell_type": "code",
      "metadata": {
        "id": "ZXi4TSMQ836F"
      },
      "source": [
        "Y1 = np.array(y)"
      ],
      "execution_count": null,
      "outputs": []
    },
    {
      "cell_type": "code",
      "metadata": {
        "id": "gSYzHSgV9kjU"
      },
      "source": [
        "#split into shape for train/test\n",
        "row,col = X.shape"
      ],
      "execution_count": null,
      "outputs": []
    },
    {
      "cell_type": "code",
      "metadata": {
        "id": "GgiWHzx39mLo"
      },
      "source": [
        "#80:20 train:test\n",
        "TR = round(row*0.8)"
      ],
      "execution_count": null,
      "outputs": []
    },
    {
      "cell_type": "code",
      "metadata": {
        "id": "_39nYO5m9oZP"
      },
      "source": [
        "TT = row - TR"
      ],
      "execution_count": null,
      "outputs": []
    },
    {
      "cell_type": "code",
      "metadata": {
        "id": "hyO--6S-9qmx"
      },
      "source": [
        "# need help here\n",
        "X1_train = X1[1:TR-1,:]\n",
        "Y1_train = Y1[1:TR-1]"
      ],
      "execution_count": null,
      "outputs": []
    },
    {
      "cell_type": "code",
      "metadata": {
        "id": "3SYV4Zy1Zl4G",
        "colab": {
          "base_uri": "https://localhost:8080/",
          "height": 336
        },
        "outputId": "b537e156-37a3-4bef-aa87-764c5d9417cf"
      },
      "source": [
        "sns.countplot(Y1_train)"
      ],
      "execution_count": null,
      "outputs": [
        {
          "output_type": "stream",
          "name": "stderr",
          "text": [
            "/usr/local/lib/python3.7/dist-packages/seaborn/_decorators.py:43: FutureWarning: Pass the following variable as a keyword arg: x. From version 0.12, the only valid positional argument will be `data`, and passing other arguments without an explicit keyword will result in an error or misinterpretation.\n",
            "  FutureWarning\n"
          ]
        },
        {
          "output_type": "execute_result",
          "data": {
            "text/plain": [
              "<matplotlib.axes._subplots.AxesSubplot at 0x7f4efcd43310>"
            ]
          },
          "metadata": {},
          "execution_count": 19
        },
        {
          "output_type": "display_data",
          "data": {
            "image/png": "[encoded data removed]",
            "text/plain": [
              "<Figure size 432x288 with 1 Axes>"
            ]
          },
          "metadata": {
            "needs_background": "light"
          }
        }
      ]
    },
    {
      "cell_type": "code",
      "metadata": {
        "colab": {
          "base_uri": "https://localhost:8080/",
          "height": 336
        },
        "id": "bUPMcxIS98LR",
        "outputId": "5c8c640b-e18c-40ed-ae80-f61f3cbe2593"
      },
      "source": [
        "X1_test = X1[TR:row,:]\n",
        "y_test = Y1[TR:row]\n",
        "sns.countplot(y_test)"
      ],
      "execution_count": null,
      "outputs": [
        {
          "output_type": "stream",
          "name": "stderr",
          "text": [
            "/usr/local/lib/python3.7/dist-packages/seaborn/_decorators.py:43: FutureWarning: Pass the following variable as a keyword arg: x. From version 0.12, the only valid positional argument will be `data`, and passing other arguments without an explicit keyword will result in an error or misinterpretation.\n",
            "  FutureWarning\n"
          ]
        },
        {
          "output_type": "execute_result",
          "data": {
            "text/plain": [
              "<matplotlib.axes._subplots.AxesSubplot at 0x7f4efccb0650>"
            ]
          },
          "metadata": {},
          "execution_count": 20
        },
        {
          "output_type": "display_data",
          "data": {
            "image/png": "[encoded data removed]",
            "text/plain": [
              "<Figure size 432x288 with 1 Axes>"
            ]
          },
          "metadata": {
            "needs_background": "light"
          }
        }
      ]
    },
    {
      "cell_type": "code",
      "metadata": {
        "colab": {
          "base_uri": "https://localhost:8080/",
          "height": 265
        },
        "id": "SYr3VylpaHYV",
        "outputId": "9176bf8f-3855-4e09-8fd6-576947e6a2df"
      },
      "source": [
        "#scatter plot of train features 10/30\n",
        "scatx = X1_train[:,10]\n",
        "scatx2 = X1_train[:,30]\n",
        "\n",
        "sns.scatterplot(x = scatx, y = scatx2, hue = Y1_train)\n",
        "plt.show()"
      ],
      "execution_count": null,
      "outputs": [
        {
          "output_type": "display_data",
          "data": {
            "image/png": "[encoded data removed]",
            "text/plain": [
              "<Figure size 432x288 with 1 Axes>"
            ]
          },
          "metadata": {
            "needs_background": "light"
          }
        }
      ]
    },
    {
      "cell_type": "code",
      "metadata": {
        "colab": {
          "base_uri": "https://localhost:8080/",
          "height": 282
        },
        "id": "212AWsf-bG6P",
        "outputId": "325f8bdb-2b8c-4f3c-e9fa-fd8f2e7b10cd"
      },
      "source": [
        "#scatter of test features 10/30\n",
        "scaty = X1_test[:,10]\n",
        "scaty2 = X1_test[:,30]\n",
        "sns.scatterplot(x = scaty, y = scaty2, hue = y_test)\n",
        "plt.show"
      ],
      "execution_count": null,
      "outputs": [
        {
          "output_type": "execute_result",
          "data": {
            "text/plain": [
              "<function matplotlib.pyplot.show>"
            ]
          },
          "metadata": {},
          "execution_count": 22
        },
        {
          "output_type": "display_data",
          "data": {
            "image/png": "[encoded data removed]",
            "text/plain": [
              "<Figure size 432x288 with 1 Axes>"
            ]
          },
          "metadata": {
            "needs_background": "light"
          }
        }
      ]
    },
    {
      "cell_type": "code",
      "metadata": {
        "colab": {
          "base_uri": "https://localhost:8080/",
          "height": 265
        },
        "id": "6EomsFo4Zzww",
        "outputId": "7c45ce2e-662d-4d7a-f42f-9e347d379bd3"
      },
      "source": [
        "sns.histplot(scaty)\n",
        "plt.show()"
      ],
      "execution_count": null,
      "outputs": [
        {
          "output_type": "display_data",
          "data": {
            "image/png": "[encoded data removed]",
            "text/plain": [
              "<Figure size 432x288 with 1 Axes>"
            ]
          },
          "metadata": {
            "needs_background": "light"
          }
        }
      ]
    },
    {
      "cell_type": "code",
      "metadata": {
        "colab": {
          "base_uri": "https://localhost:8080/"
        },
        "id": "E9MBKaj4-xWh",
        "outputId": "7b43e4de-985f-40d9-f581-c82d9aaa8dd1"
      },
      "source": [
        "y.shape"
      ],
      "execution_count": null,
      "outputs": [
        {
          "output_type": "execute_result",
          "data": {
            "text/plain": [
              "(2542,)"
            ]
          },
          "metadata": {},
          "execution_count": 24
        }
      ]
    },
    {
      "cell_type": "code",
      "metadata": {
        "colab": {
          "base_uri": "https://localhost:8080/"
        },
        "id": "goBt1nK85sL8",
        "outputId": "ae8831d0-666d-4697-d277-480bf57f4c5a"
      },
      "source": [
        "X_prime = X.to_numpy()\n",
        "X_np = np.transpose(X_prime)\n",
        "# X_prime.shape\n",
        "X_np"
      ],
      "execution_count": null,
      "outputs": [
        {
          "output_type": "execute_result",
          "data": {
            "text/plain": [
              "array([[235.84980237, 143.27319588,  93.73517787, ..., 102.80632411,\n",
              "        252.37113402, 243.91304348],\n",
              "       [235.84980237, 131.44329897,  80.63241107, ..., 125.98814229,\n",
              "        251.05670103, 243.91304348],\n",
              "       [236.85770751, 120.92783505,  76.60079051, ..., 113.89328063,\n",
              "        252.37113402, 244.92094862],\n",
              "       ...,\n",
              "       [238.87351779, 145.90206186,  86.6798419 , ..., 118.93280632,\n",
              "        251.05670103, 242.90513834],\n",
              "       [238.87351779, 136.70103093,  79.62450593, ..., 129.01185771,\n",
              "        251.05670103, 243.91304348],\n",
              "       [238.87351779, 106.46907216,  61.48221344, ..., 120.9486166 ,\n",
              "        249.74226804, 243.91304348]])"
            ]
          },
          "metadata": {},
          "execution_count": 25
        }
      ]
    },
    {
      "cell_type": "code",
      "metadata": {
        "colab": {
          "base_uri": "https://localhost:8080/"
        },
        "id": "Fln6XpGB8RIj",
        "outputId": "255753ba-2b84-4cf7-eb42-077a113d7184"
      },
      "source": [
        "y_np = y.to_numpy()\n",
        "y.shape"
      ],
      "execution_count": null,
      "outputs": [
        {
          "output_type": "execute_result",
          "data": {
            "text/plain": [
              "(2542,)"
            ]
          },
          "metadata": {},
          "execution_count": 26
        }
      ]
    },
    {
      "cell_type": "code",
      "metadata": {
        "id": "KDKBC1251imj"
      },
      "source": [
        "#lasso regression \n",
        "lamda = 0.01\n",
        "A1_y = np.matmul(y_np,X_prime) \n",
        "A1_x = np.linalg.inv(np.matmul(X_np, X_prime))\n",
        "\n",
        "A1 = np.matmul(A1_y, A1_x)\n",
        "S = np.where(A1 > 0, 1, -1)"
      ],
      "execution_count": null,
      "outputs": []
    },
    {
      "cell_type": "code",
      "metadata": {
        "colab": {
          "base_uri": "https://localhost:8080/"
        },
        "id": "zQQkgcVr8QQV",
        "outputId": "a7775ca5-034c-47ff-cc38-e167f6c96066"
      },
      "source": [
        "len(A1)"
      ],
      "execution_count": null,
      "outputs": [
        {
          "output_type": "execute_result",
          "data": {
            "text/plain": [
              "64"
            ]
          },
          "metadata": {},
          "execution_count": 28
        }
      ]
    },
    {
      "cell_type": "code",
      "metadata": {
        "colab": {
          "base_uri": "https://localhost:8080/"
        },
        "id": "g1ZSgx5k5wDV",
        "outputId": "da30f87c-7f8d-4723-bb8e-f79f1ba17532"
      },
      "source": [
        "S"
      ],
      "execution_count": null,
      "outputs": [
        {
          "output_type": "execute_result",
          "data": {
            "text/plain": [
              "array([-1,  1, -1,  1, -1,  1,  1,  1,  1,  1, -1,  1, -1,  1,  1, -1,  1,\n",
              "       -1,  1,  1,  1,  1, -1,  1, -1,  1, -1, -1, -1,  1, -1,  1, -1,  1,\n",
              "        1, -1, -1, -1, -1, -1,  1, -1, -1,  1, -1,  1, -1,  1, -1,  1,  1,\n",
              "       -1, -1,  1, -1, -1,  1, -1, -1,  1, -1,  1,  1, -1])"
            ]
          },
          "metadata": {},
          "execution_count": 29
        }
      ]
    },
    {
      "cell_type": "code",
      "metadata": {
        "id": "0My5z0oHCaVo"
      },
      "source": [
        "AA = (np.matmul(y_np, X_prime)) - S *(lamda/2)"
      ],
      "execution_count": null,
      "outputs": []
    },
    {
      "cell_type": "code",
      "metadata": {
        "id": "p34C4jflCoFJ"
      },
      "source": [
        "AA_2 = np.linalg.inv(np.matmul(X_np, X_prime))"
      ],
      "execution_count": null,
      "outputs": []
    },
    {
      "cell_type": "code",
      "metadata": {
        "colab": {
          "base_uri": "https://localhost:8080/"
        },
        "id": "sdRJ7mk7DE6F",
        "outputId": "3e990c03-bd89-49d6-d5ab-fc64cd74681a"
      },
      "source": [
        "AA_3 = np.matmul(AA,AA_2)\n",
        "AA_3.shape"
      ],
      "execution_count": null,
      "outputs": [
        {
          "output_type": "execute_result",
          "data": {
            "text/plain": [
              "(64,)"
            ]
          },
          "metadata": {},
          "execution_count": 32
        }
      ]
    },
    {
      "cell_type": "code",
      "metadata": {
        "id": "CiVDLvxGDpdK"
      },
      "source": [
        "X1_test_t = np.transpose(X1_test)"
      ],
      "execution_count": null,
      "outputs": []
    },
    {
      "cell_type": "code",
      "metadata": {
        "id": "jfUEJJvfDQdj"
      },
      "source": [
        "yy1 = np.matmul(AA_3, X1_test_t)"
      ],
      "execution_count": null,
      "outputs": []
    },
    {
      "cell_type": "code",
      "metadata": {
        "id": "pVoJMJqEEEIZ"
      },
      "source": [
        "yy2 = np.where(yy1 > 0, 1, 0)"
      ],
      "execution_count": null,
      "outputs": []
    },
    {
      "cell_type": "code",
      "metadata": {
        "id": "alFv61rgELS2"
      },
      "source": [
        "cc_testfin = confusion_matrix(y_test, yy2)"
      ],
      "execution_count": null,
      "outputs": []
    },
    {
      "cell_type": "code",
      "metadata": {
        "colab": {
          "base_uri": "https://localhost:8080/"
        },
        "id": "w_nOurxdEpZa",
        "outputId": "03480d52-3132-4ce5-f5c8-41c76217b768"
      },
      "source": [
        "print(metrics.precision_score(y_test, yy2))"
      ],
      "execution_count": null,
      "outputs": [
        {
          "output_type": "stream",
          "name": "stdout",
          "text": [
            "0.4431137724550898\n"
          ]
        }
      ]
    },
    {
      "cell_type": "code",
      "metadata": {
        "colab": {
          "base_uri": "https://localhost:8080/"
        },
        "id": "uf8EBHIZH35B",
        "outputId": "f6de47f1-fa55-4eb8-8b68-01650dff4464"
      },
      "source": [
        "print(metrics.recall_score(y_test, yy2))"
      ],
      "execution_count": null,
      "outputs": [
        {
          "output_type": "stream",
          "name": "stdout",
          "text": [
            "0.9694323144104804\n"
          ]
        }
      ]
    },
    {
      "cell_type": "code",
      "metadata": {
        "colab": {
          "base_uri": "https://localhost:8080/",
          "height": 279
        },
        "id": "A8Ldg3QuHFc1",
        "outputId": "3f3f1684-196c-459a-de23-04b05e5a4ad7"
      },
      "source": [
        "labels = ['grapes', 'coconuts']\n",
        "disp = ConfusionMatrixDisplay(confusion_matrix= cc_testfin, display_labels = labels )\n",
        "disp.plot(cmap=plt.cm.Blues)\n",
        "plt.show()"
      ],
      "execution_count": null,
      "outputs": [
        {
          "output_type": "display_data",
          "data": {
            "image/png": "[encoded data removed]",
            "text/plain": [
              "<Figure size 432x288 with 2 Axes>"
            ]
          },
          "metadata": {
            "needs_background": "light"
          }
        }
      ]
    },
    {
      "cell_type": "code",
      "metadata": {
        "colab": {
          "base_uri": "https://localhost:8080/"
        },
        "id": "EAqdoY0P_RJc",
        "outputId": "3975f1d8-405f-4c8a-8d21-a6e94e20d691"
      },
      "source": [
        "\n",
        "#library lasso\n",
        "modellas = Lasso(alpha = 0.01, positive = True)\n",
        "modellas.fit(X,y)"
      ],
      "execution_count": null,
      "outputs": [
        {
          "output_type": "execute_result",
          "data": {
            "text/plain": [
              "Lasso(alpha=0.01, copy_X=True, fit_intercept=True, max_iter=1000,\n",
              "      normalize=False, positive=True, precompute=False, random_state=None,\n",
              "      selection='cyclic', tol=0.0001, warm_start=False)"
            ]
          },
          "metadata": {},
          "execution_count": 41
        }
      ]
    },
    {
      "cell_type": "code",
      "metadata": {
        "id": "P-_ZKMiXC2Fr"
      },
      "source": [
        "yhat_test_las = modellas.predict(X1_test)"
      ],
      "execution_count": null,
      "outputs": []
    },
    {
      "cell_type": "code",
      "metadata": {
        "id": "5OvU9SOq7-Ul",
        "colab": {
          "base_uri": "https://localhost:8080/"
        },
        "outputId": "b1bcf826-5fa2-489b-f343-a2735dc1c93c"
      },
      "source": [
        "print('lasso score' , modellas.score(X1_test, yhat_test_las))"
      ],
      "execution_count": null,
      "outputs": [
        {
          "output_type": "stream",
          "name": "stdout",
          "text": [
            "lasso score 1.0\n"
          ]
        }
      ]
    },
    {
      "cell_type": "code",
      "metadata": {
        "id": "nulDaRQ5ITpL"
      },
      "source": [
        "yhat2 = yhat_test_las.astype(int)"
      ],
      "execution_count": null,
      "outputs": []
    },
    {
      "cell_type": "markdown",
      "metadata": {
        "id": "TYcn52s7_HmK"
      },
      "source": [
        ""
      ]
    },
    {
      "cell_type": "code",
      "metadata": {
        "id": "KDcLDTmHJDEe"
      },
      "source": [
        "CC_test2 = confusion_matrix(y_test, yhat2)"
      ],
      "execution_count": null,
      "outputs": []
    },
    {
      "cell_type": "code",
      "metadata": {
        "colab": {
          "base_uri": "https://localhost:8080/"
        },
        "id": "G2L9GmTW_KNl",
        "outputId": "57a71be9-7b01-48cb-e980-3a3367a432ec"
      },
      "source": [
        "CC_test2"
      ],
      "execution_count": null,
      "outputs": [
        {
          "output_type": "execute_result",
          "data": {
            "text/plain": [
              "array([[279,   0],\n",
              "       [229,   0]])"
            ]
          },
          "metadata": {},
          "execution_count": 46
        }
      ]
    },
    {
      "cell_type": "code",
      "metadata": {
        "colab": {
          "base_uri": "https://localhost:8080/",
          "height": 279
        },
        "id": "b9E4ych6Jiho",
        "outputId": "143e3c59-52f6-48e5-9090-d087263bce40"
      },
      "source": [
        "labels = ['grapes', 'coconuts']\n",
        "disp = ConfusionMatrixDisplay(confusion_matrix= CC_test2, display_labels = labels )\n",
        "disp.plot(cmap=plt.cm.Blues)\n",
        "plt.show()"
      ],
      "execution_count": null,
      "outputs": [
        {
          "output_type": "display_data",
          "data": {
            "image/png": "[encoded data removed]",
            "text/plain": [
              "<Figure size 432x288 with 2 Axes>"
            ]
          },
          "metadata": {
            "needs_background": "light"
          }
        }
      ]
    },
    {
      "cell_type": "code",
      "metadata": {
        "id": "-Gl1aKz_udHH",
        "colab": {
          "base_uri": "https://localhost:8080/"
        },
        "outputId": "6a31495a-cb14-4760-e4a3-6b29ffe392ae"
      },
      "source": [
        "X1_train.shape"
      ],
      "execution_count": null,
      "outputs": [
        {
          "output_type": "execute_result",
          "data": {
            "text/plain": [
              "(2032, 64)"
            ]
          },
          "metadata": {},
          "execution_count": 48
        }
      ]
    },
    {
      "cell_type": "code",
      "metadata": {
        "colab": {
          "base_uri": "https://localhost:8080/"
        },
        "id": "Lpfbkwkxs3Ki",
        "outputId": "2f80ba71-ae5f-4ce5-9f1a-ef4b74690990"
      },
      "source": [
        "X.shape"
      ],
      "execution_count": null,
      "outputs": [
        {
          "output_type": "execute_result",
          "data": {
            "text/plain": [
              "(2542, 64)"
            ]
          },
          "metadata": {},
          "execution_count": 49
        }
      ]
    },
    {
      "cell_type": "code",
      "metadata": {
        "colab": {
          "base_uri": "https://localhost:8080/"
        },
        "id": "u3mrWeWAs4nB",
        "outputId": "e7807f2e-2a7c-457e-fd2d-cb9a51ee3c00"
      },
      "source": [
        "y.shape"
      ],
      "execution_count": null,
      "outputs": [
        {
          "output_type": "execute_result",
          "data": {
            "text/plain": [
              "(2542,)"
            ]
          },
          "metadata": {},
          "execution_count": 50
        }
      ]
    },
    {
      "cell_type": "code",
      "metadata": {
        "colab": {
          "base_uri": "https://localhost:8080/"
        },
        "id": "oX0v3C2us6IL",
        "outputId": "1594a56f-34a2-4d59-9164-32ff312e6a8c"
      },
      "source": [
        "X1_test.shape"
      ],
      "execution_count": null,
      "outputs": [
        {
          "output_type": "execute_result",
          "data": {
            "text/plain": [
              "(508, 64)"
            ]
          },
          "metadata": {},
          "execution_count": 51
        }
      ]
    },
    {
      "cell_type": "code",
      "metadata": {
        "colab": {
          "base_uri": "https://localhost:8080/"
        },
        "id": "P6HFxJZEs71I",
        "outputId": "80373390-2f48-4e03-9e21-481f5ee20b08"
      },
      "source": [
        "Y1_train.shape"
      ],
      "execution_count": null,
      "outputs": [
        {
          "output_type": "execute_result",
          "data": {
            "text/plain": [
              "(2032,)"
            ]
          },
          "metadata": {},
          "execution_count": 52
        }
      ]
    },
    {
      "cell_type": "code",
      "metadata": {
        "id": "BuNTfCUNtdbM"
      },
      "source": [
        "#flatten is input layer\n",
        "#dense has x neurons\n",
        "model = tf.keras.Sequential([\n",
        "    tf.keras.layers.Flatten(input_shape=(X1_train.shape[1:])),\n",
        "    tf.keras.layers.Dense(128, activation='relu'),\n",
        "    tf.keras.layers.Dense(1)\n",
        "])"
      ],
      "execution_count": null,
      "outputs": []
    },
    {
      "cell_type": "code",
      "metadata": {
        "id": "L6AGeX9avEYF"
      },
      "source": [
        "model.compile(optimizer='adam',\n",
        "              loss=tf.keras.losses.BinaryCrossentropy(from_logits=True),\n",
        "              metrics=['accuracy'])"
      ],
      "execution_count": null,
      "outputs": []
    },
    {
      "cell_type": "code",
      "metadata": {
        "colab": {
          "base_uri": "https://localhost:8080/"
        },
        "id": "mRYwFbDlv-g0",
        "outputId": "abeb1439-8a53-4974-cd42-c254bf9f7899"
      },
      "source": [
        "model.summary()"
      ],
      "execution_count": null,
      "outputs": [
        {
          "output_type": "stream",
          "name": "stdout",
          "text": [
            "Model: \"sequential\"\n",
            "_________________________________________________________________\n",
            "Layer (type)                 Output Shape              Param #   \n",
            "=================================================================\n",
            "flatten (Flatten)            (None, 64)                0         \n",
            "_________________________________________________________________\n",
            "dense (Dense)                (None, 128)               8320      \n",
            "_________________________________________________________________\n",
            "dense_1 (Dense)              (None, 1)                 129       \n",
            "=================================================================\n",
            "Total params: 8,449\n",
            "Trainable params: 8,449\n",
            "Non-trainable params: 0\n",
            "_________________________________________________________________\n"
          ]
        }
      ]
    },
    {
      "cell_type": "code",
      "metadata": {
        "colab": {
          "base_uri": "https://localhost:8080/"
        },
        "id": "52wf2EpKwACc",
        "outputId": "85edb82a-68c4-4b3a-c8c1-820e56610f5f"
      },
      "source": [
        "\n",
        "model.fit(\n",
        "  X1_train,\n",
        "  Y1_train,\n",
        "  epochs=10\n",
        ")"
      ],
      "execution_count": null,
      "outputs": [
        {
          "output_type": "stream",
          "name": "stdout",
          "text": [
            "Epoch 1/10\n",
            "64/64 [==============================] - 1s 1ms/step - loss: 20.2836 - accuracy: 0.5079\n",
            "Epoch 2/10\n",
            "64/64 [==============================] - 0s 2ms/step - loss: 4.6607 - accuracy: 0.5202\n",
            "Epoch 3/10\n",
            "64/64 [==============================] - 0s 1ms/step - loss: 5.1458 - accuracy: 0.5148\n",
            "Epoch 4/10\n",
            "64/64 [==============================] - 0s 1ms/step - loss: 5.4887 - accuracy: 0.5266\n",
            "Epoch 5/10\n",
            "64/64 [==============================] - 0s 1ms/step - loss: 8.1640 - accuracy: 0.5128\n",
            "Epoch 6/10\n",
            "64/64 [==============================] - 0s 1ms/step - loss: 3.1863 - accuracy: 0.5266\n",
            "Epoch 7/10\n",
            "64/64 [==============================] - 0s 1ms/step - loss: 4.8122 - accuracy: 0.5133\n",
            "Epoch 8/10\n",
            "64/64 [==============================] - 0s 2ms/step - loss: 3.1471 - accuracy: 0.5167\n",
            "Epoch 9/10\n",
            "64/64 [==============================] - 0s 1ms/step - loss: 4.3279 - accuracy: 0.5202\n",
            "Epoch 10/10\n",
            "64/64 [==============================] - 0s 2ms/step - loss: 2.6201 - accuracy: 0.5512\n"
          ]
        },
        {
          "output_type": "execute_result",
          "data": {
            "text/plain": [
              "<keras.callbacks.History at 0x7f4eec8c6a90>"
            ]
          },
          "metadata": {},
          "execution_count": 56
        }
      ]
    },
    {
      "cell_type": "code",
      "metadata": {
        "colab": {
          "base_uri": "https://localhost:8080/"
        },
        "id": "Psdy7kyJwGGK",
        "outputId": "84fe4f35-7cc8-4bdb-af09-c2d9d7b6b1b1"
      },
      "source": [
        "test_loss, test_acc = model.evaluate(X1_test, y_test, verbose = 2)\n",
        "print('\\nTest accuracy:', test_acc)"
      ],
      "execution_count": null,
      "outputs": [
        {
          "output_type": "stream",
          "name": "stdout",
          "text": [
            "16/16 - 0s - loss: 1.5823 - accuracy: 0.5571\n",
            "\n",
            "Test accuracy: 0.5570865869522095\n"
          ]
        }
      ]
    },
    {
      "cell_type": "code",
      "metadata": {
        "id": "RNQIdrW19ZbY"
      },
      "source": [
        "predictions = model.predict(X1_test)"
      ],
      "execution_count": null,
      "outputs": []
    },
    {
      "cell_type": "code",
      "metadata": {
        "colab": {
          "base_uri": "https://localhost:8080/"
        },
        "id": "NRR3sfVT9e0m",
        "outputId": "6d1f6895-3731-42ae-9372-102741f8bbc6"
      },
      "source": [
        "predictions[1]"
      ],
      "execution_count": null,
      "outputs": [
        {
          "output_type": "execute_result",
          "data": {
            "text/plain": [
              "array([0.01436461], dtype=float32)"
            ]
          },
          "metadata": {},
          "execution_count": 59
        }
      ]
    },
    {
      "cell_type": "code",
      "metadata": {
        "id": "v0OEfP869f8C"
      },
      "source": [
        "np.argmax(predictions[1])\n",
        "yhat3 = predictions.astype(int)\n"
      ],
      "execution_count": null,
      "outputs": []
    },
    {
      "cell_type": "code",
      "metadata": {
        "id": "QJtmaoHeCgRI"
      },
      "source": [
        "#np filter where 0 = neg value / 1 = pos value\n",
        "yhat3 = np.where(yhat3 > 0.5, 1, 0)"
      ],
      "execution_count": null,
      "outputs": []
    },
    {
      "cell_type": "code",
      "metadata": {
        "colab": {
          "base_uri": "https://localhost:8080/"
        },
        "id": "BHTSMcOZoMe-",
        "outputId": "7d6bdd9e-e30f-49ea-cbcc-ca078bf547a6"
      },
      "source": [
        "cc_test_seqmodel = confusion_matrix(y_test, yhat3)\n",
        "cc_test_seqmodel"
      ],
      "execution_count": null,
      "outputs": [
        {
          "output_type": "execute_result",
          "data": {
            "text/plain": [
              "array([[218,  61],\n",
              "       [153,  76]])"
            ]
          },
          "metadata": {},
          "execution_count": 62
        }
      ]
    },
    {
      "cell_type": "code",
      "metadata": {
        "id": "qLq6k6luo005",
        "colab": {
          "base_uri": "https://localhost:8080/",
          "height": 279
        },
        "outputId": "48265a57-f133-4c17-c8cc-09d45c4ebc5d"
      },
      "source": [
        "disp = ConfusionMatrixDisplay(confusion_matrix= cc_test_seqmodel, display_labels = labels )\n",
        "disp.plot(cmap=plt.cm.Blues)\n",
        "plt.show()"
      ],
      "execution_count": null,
      "outputs": [
        {
          "output_type": "display_data",
          "data": {
            "image/png": "[encoded data removed]",
            "text/plain": [
              "<Figure size 432x288 with 2 Axes>"
            ]
          },
          "metadata": {
            "needs_background": "light"
          }
        }
      ]
    },
    {
      "cell_type": "code",
      "metadata": {
        "id": "VJ64gP-SCimF",
        "colab": {
          "base_uri": "https://localhost:8080/"
        },
        "outputId": "5e9434c1-c5ac-4189-b50d-2702a4718701"
      },
      "source": [
        "# yhatadd = np.reshape(yhat2, (len(yhat2)))\n",
        "# yhattest = np.reshape(y_test, (len(y_test)))\n",
        "print(metrics.precision_score(y_test, yhat3))"
      ],
      "execution_count": null,
      "outputs": [
        {
          "output_type": "stream",
          "name": "stdout",
          "text": [
            "0.5547445255474452\n"
          ]
        }
      ]
    },
    {
      "cell_type": "code",
      "metadata": {
        "id": "ycwdE100KuxW",
        "colab": {
          "base_uri": "https://localhost:8080/"
        },
        "outputId": "56536247-317a-4e39-98c4-ce28df639c77"
      },
      "source": [
        "print(metrics.recall_score(y_test, yhat3 ))"
      ],
      "execution_count": null,
      "outputs": [
        {
          "output_type": "stream",
          "name": "stdout",
          "text": [
            "0.3318777292576419\n"
          ]
        }
      ]
    },
    {
      "cell_type": "code",
      "metadata": {
        "id": "izQBcCKtP2Jc",
        "colab": {
          "base_uri": "https://localhost:8080/"
        },
        "outputId": "dab7fd3c-2ae6-4bb8-8321-f23b9ae88666"
      },
      "source": [
        "AL[\"AL\"] = pd.DataFrame(yhat3)\n",
        "PL[\"PL\"] = pd.DataFrame(y_test)\n",
        "AL.head"
      ],
      "execution_count": null,
      "outputs": [
        {
          "output_type": "execute_result",
          "data": {
            "text/plain": [
              "<bound method NDFrame.head of      0  AL\n",
              "0    0   0\n",
              "1    0   0\n",
              "2    0   0\n",
              "3    1   1\n",
              "4    0   0\n",
              "..  ..  ..\n",
              "503  0   0\n",
              "504  0   0\n",
              "505  0   0\n",
              "506  0   0\n",
              "507  0   0\n",
              "\n",
              "[508 rows x 2 columns]>"
            ]
          },
          "metadata": {},
          "execution_count": 75
        }
      ]
    },
    {
      "cell_type": "code",
      "metadata": {
        "colab": {
          "base_uri": "https://localhost:8080/",
          "height": 419
        },
        "id": "wa4MGRD7SR_Q",
        "outputId": "e4910d84-22d5-429c-b27d-7e30302846a1"
      },
      "source": [
        "# lassocsv = pd.DataFrame(lassocsv)\n",
        "lassocsvfin = pd.concat([AL, PL], axis = 1)\n",
        "lassocsvfin = lassocsvfin.iloc[: , 1:]\n",
        "lassocsvfin = lassocsvfin.drop(lassocsvfin.columns[[1]], axis=1)\n",
        "lassocsvfin"
      ],
      "execution_count": null,
      "outputs": [
        {
          "output_type": "execute_result",
          "data": {
            "text/html": [
              "<div>\n",
              "<style scoped>\n",
              "    .dataframe tbody tr th:only-of-type {\n",
              "        vertical-align: middle;\n",
              "    }\n",
              "\n",
              "    .dataframe tbody tr th {\n",
              "        vertical-align: top;\n",
              "    }\n",
              "\n",
              "    .dataframe thead th {\n",
              "        text-align: right;\n",
              "    }\n",
              "</style>\n",
              "<table border=\"1\" class=\"dataframe\">\n",
              "  <thead>\n",
              "    <tr style=\"text-align: right;\">\n",
              "      <th></th>\n",
              "      <th>AL</th>\n",
              "      <th>PL</th>\n",
              "    </tr>\n",
              "  </thead>\n",
              "  <tbody>\n",
              "    <tr>\n",
              "      <th>0</th>\n",
              "      <td>0</td>\n",
              "      <td>1</td>\n",
              "    </tr>\n",
              "    <tr>\n",
              "      <th>1</th>\n",
              "      <td>0</td>\n",
              "      <td>1</td>\n",
              "    </tr>\n",
              "    <tr>\n",
              "      <th>2</th>\n",
              "      <td>0</td>\n",
              "      <td>0</td>\n",
              "    </tr>\n",
              "    <tr>\n",
              "      <th>3</th>\n",
              "      <td>1</td>\n",
              "      <td>1</td>\n",
              "    </tr>\n",
              "    <tr>\n",
              "      <th>4</th>\n",
              "      <td>0</td>\n",
              "      <td>0</td>\n",
              "    </tr>\n",
              "    <tr>\n",
              "      <th>...</th>\n",
              "      <td>...</td>\n",
              "      <td>...</td>\n",
              "    </tr>\n",
              "    <tr>\n",
              "      <th>503</th>\n",
              "      <td>0</td>\n",
              "      <td>1</td>\n",
              "    </tr>\n",
              "    <tr>\n",
              "      <th>504</th>\n",
              "      <td>0</td>\n",
              "      <td>0</td>\n",
              "    </tr>\n",
              "    <tr>\n",
              "      <th>505</th>\n",
              "      <td>0</td>\n",
              "      <td>1</td>\n",
              "    </tr>\n",
              "    <tr>\n",
              "      <th>506</th>\n",
              "      <td>0</td>\n",
              "      <td>0</td>\n",
              "    </tr>\n",
              "    <tr>\n",
              "      <th>507</th>\n",
              "      <td>0</td>\n",
              "      <td>1</td>\n",
              "    </tr>\n",
              "  </tbody>\n",
              "</table>\n",
              "<p>508 rows × 2 columns</p>\n",
              "</div>"
            ],
            "text/plain": [
              "     AL  PL\n",
              "0     0   1\n",
              "1     0   1\n",
              "2     0   0\n",
              "3     1   1\n",
              "4     0   0\n",
              "..   ..  ..\n",
              "503   0   1\n",
              "504   0   0\n",
              "505   0   1\n",
              "506   0   0\n",
              "507   0   1\n",
              "\n",
              "[508 rows x 2 columns]"
            ]
          },
          "metadata": {},
          "execution_count": 77
        }
      ]
    },
    {
      "cell_type": "code",
      "metadata": {
        "id": "GdJqr_eiTPWp"
      },
      "source": [
        "CC_testlasso = confusion_matrix(lassocsvfin['AL'], lassocsvfin['PL'])"
      ],
      "execution_count": null,
      "outputs": []
    },
    {
      "cell_type": "code",
      "metadata": {
        "colab": {
          "base_uri": "https://localhost:8080/",
          "height": 279
        },
        "id": "ns7MtHbES6Np",
        "outputId": "e19348bd-b808-480a-d463-2a1853525024"
      },
      "source": [
        "labels = ['grapes', 'coconuts']\n",
        "disp = ConfusionMatrixDisplay(confusion_matrix= CC_testlasso, display_labels = labels )\n",
        "disp.plot(cmap=plt.cm.Blues)\n",
        "plt.show()"
      ],
      "execution_count": null,
      "outputs": [
        {
          "output_type": "display_data",
          "data": {
            "image/png": "[encoded data removed]",
            "text/plain": [
              "<Figure size 432x288 with 2 Axes>"
            ]
          },
          "metadata": {
            "needs_background": "light"
          }
        }
      ]
    },
    {
      "cell_type": "code",
      "metadata": {
        "id": "53bCKXntTVYG"
      },
      "source": [
        "TN1 = CC_testlasso[1,1]\n",
        "FP1 = CC_testlasso[1,0]\n",
        "FN1 = CC_testlasso[0,1]\n",
        "TP1 = CC_testlasso[0,0]"
      ],
      "execution_count": null,
      "outputs": []
    },
    {
      "cell_type": "code",
      "metadata": {
        "id": "xQzlLHhdUIrN"
      },
      "source": [
        "FPFN1 = FP1+FN1\n",
        "TPTN1 = TP1+TN1"
      ],
      "execution_count": null,
      "outputs": []
    },
    {
      "cell_type": "code",
      "metadata": {
        "colab": {
          "base_uri": "https://localhost:8080/"
        },
        "id": "R1jQBhbJUKdo",
        "outputId": "ef190d6e-6ebc-44f1-eaff-86ce3c36e857"
      },
      "source": [
        "Precision1 = TP1/(TP1 + FP1)\n",
        "print(\"Our_Precision_Score:\",Precision1)"
      ],
      "execution_count": null,
      "outputs": [
        {
          "output_type": "stream",
          "name": "stdout",
          "text": [
            "Our_Precision_Score: 0.953405017921147\n"
          ]
        }
      ]
    },
    {
      "cell_type": "code",
      "metadata": {
        "colab": {
          "base_uri": "https://localhost:8080/"
        },
        "id": "veT6Rf2GUSFt",
        "outputId": "97670fd6-a4c6-4463-908b-3ddffec222ed"
      },
      "source": [
        "recall = TP1 / (TP1 + FN1)\n",
        "print('recall: ' ,recall)"
      ],
      "execution_count": null,
      "outputs": [
        {
          "output_type": "stream",
          "name": "stdout",
          "text": [
            "recall:  0.5911111111111111\n"
          ]
        }
      ]
    },
    {
      "cell_type": "code",
      "metadata": {
        "id": "frRj8z0nU4_H"
      },
      "source": [
        "from sklearn.metrics import f1_score"
      ],
      "execution_count": null,
      "outputs": []
    },
    {
      "cell_type": "code",
      "metadata": {
        "colab": {
          "base_uri": "https://localhost:8080/"
        },
        "id": "dIAhc42wVFcN",
        "outputId": "1626fb2a-606c-416f-d847-da5507286d9f"
      },
      "source": [
        "f1_score(lassocsvfin['AL'], lassocsvfin['PL'])"
      ],
      "execution_count": null,
      "outputs": [
        {
          "output_type": "execute_result",
          "data": {
            "text/plain": [
              "0.313588850174216"
            ]
          },
          "metadata": {},
          "execution_count": 86
        }
      ]
    },
    {
      "cell_type": "code",
      "metadata": {
        "id": "MFWtL7WpVPS8"
      },
      "source": [
        "lassocsvfin.to_csv('t2csv_labels.csv')"
      ],
      "execution_count": null,
      "outputs": []
    },
    {
      "cell_type": "code",
      "metadata": {
        "id": "E2sVDOoDpI11"
      },
      "source": [
        "yy2df = pd.DataFrame(yy2, columns= [\"PL\"])"
      ],
      "execution_count": null,
      "outputs": []
    },
    {
      "cell_type": "code",
      "metadata": {
        "colab": {
          "base_uri": "https://localhost:8080/",
          "height": 419
        },
        "id": "Ln26KKONsGgx",
        "outputId": "9df3e8c7-5ecb-446b-f93d-fda5a8cac8a2"
      },
      "source": [
        "yy2df"
      ],
      "execution_count": null,
      "outputs": [
        {
          "output_type": "execute_result",
          "data": {
            "text/html": [
              "<div>\n",
              "<style scoped>\n",
              "    .dataframe tbody tr th:only-of-type {\n",
              "        vertical-align: middle;\n",
              "    }\n",
              "\n",
              "    .dataframe tbody tr th {\n",
              "        vertical-align: top;\n",
              "    }\n",
              "\n",
              "    .dataframe thead th {\n",
              "        text-align: right;\n",
              "    }\n",
              "</style>\n",
              "<table border=\"1\" class=\"dataframe\">\n",
              "  <thead>\n",
              "    <tr style=\"text-align: right;\">\n",
              "      <th></th>\n",
              "      <th>PL</th>\n",
              "    </tr>\n",
              "  </thead>\n",
              "  <tbody>\n",
              "    <tr>\n",
              "      <th>0</th>\n",
              "      <td>1</td>\n",
              "    </tr>\n",
              "    <tr>\n",
              "      <th>1</th>\n",
              "      <td>1</td>\n",
              "    </tr>\n",
              "    <tr>\n",
              "      <th>2</th>\n",
              "      <td>0</td>\n",
              "    </tr>\n",
              "    <tr>\n",
              "      <th>3</th>\n",
              "      <td>1</td>\n",
              "    </tr>\n",
              "    <tr>\n",
              "      <th>4</th>\n",
              "      <td>1</td>\n",
              "    </tr>\n",
              "    <tr>\n",
              "      <th>...</th>\n",
              "      <td>...</td>\n",
              "    </tr>\n",
              "    <tr>\n",
              "      <th>503</th>\n",
              "      <td>1</td>\n",
              "    </tr>\n",
              "    <tr>\n",
              "      <th>504</th>\n",
              "      <td>1</td>\n",
              "    </tr>\n",
              "    <tr>\n",
              "      <th>505</th>\n",
              "      <td>1</td>\n",
              "    </tr>\n",
              "    <tr>\n",
              "      <th>506</th>\n",
              "      <td>1</td>\n",
              "    </tr>\n",
              "    <tr>\n",
              "      <th>507</th>\n",
              "      <td>1</td>\n",
              "    </tr>\n",
              "  </tbody>\n",
              "</table>\n",
              "<p>508 rows × 1 columns</p>\n",
              "</div>"
            ],
            "text/plain": [
              "     PL\n",
              "0     1\n",
              "1     1\n",
              "2     0\n",
              "3     1\n",
              "4     1\n",
              "..   ..\n",
              "503   1\n",
              "504   1\n",
              "505   1\n",
              "506   1\n",
              "507   1\n",
              "\n",
              "[508 rows x 1 columns]"
            ]
          },
          "metadata": {},
          "execution_count": 108
        }
      ]
    },
    {
      "cell_type": "code",
      "metadata": {
        "colab": {
          "base_uri": "https://localhost:8080/",
          "height": 419
        },
        "id": "Y_-ouQ9DskG9",
        "outputId": "11d300a0-7720-4f95-b07c-0e5fcfea0497"
      },
      "source": [
        "PL2 = pd.DataFrame(y_test, columns = ['AL'])\n",
        "lassocsvlabels = pd.concat([PL2,yy2df], axis = 1)\n",
        "lassocsvlabels"
      ],
      "execution_count": null,
      "outputs": [
        {
          "output_type": "execute_result",
          "data": {
            "text/html": [
              "<div>\n",
              "<style scoped>\n",
              "    .dataframe tbody tr th:only-of-type {\n",
              "        vertical-align: middle;\n",
              "    }\n",
              "\n",
              "    .dataframe tbody tr th {\n",
              "        vertical-align: top;\n",
              "    }\n",
              "\n",
              "    .dataframe thead th {\n",
              "        text-align: right;\n",
              "    }\n",
              "</style>\n",
              "<table border=\"1\" class=\"dataframe\">\n",
              "  <thead>\n",
              "    <tr style=\"text-align: right;\">\n",
              "      <th></th>\n",
              "      <th>AL</th>\n",
              "      <th>PL</th>\n",
              "    </tr>\n",
              "  </thead>\n",
              "  <tbody>\n",
              "    <tr>\n",
              "      <th>0</th>\n",
              "      <td>1</td>\n",
              "      <td>1</td>\n",
              "    </tr>\n",
              "    <tr>\n",
              "      <th>1</th>\n",
              "      <td>1</td>\n",
              "      <td>1</td>\n",
              "    </tr>\n",
              "    <tr>\n",
              "      <th>2</th>\n",
              "      <td>0</td>\n",
              "      <td>0</td>\n",
              "    </tr>\n",
              "    <tr>\n",
              "      <th>3</th>\n",
              "      <td>1</td>\n",
              "      <td>1</td>\n",
              "    </tr>\n",
              "    <tr>\n",
              "      <th>4</th>\n",
              "      <td>0</td>\n",
              "      <td>1</td>\n",
              "    </tr>\n",
              "    <tr>\n",
              "      <th>...</th>\n",
              "      <td>...</td>\n",
              "      <td>...</td>\n",
              "    </tr>\n",
              "    <tr>\n",
              "      <th>503</th>\n",
              "      <td>1</td>\n",
              "      <td>1</td>\n",
              "    </tr>\n",
              "    <tr>\n",
              "      <th>504</th>\n",
              "      <td>0</td>\n",
              "      <td>1</td>\n",
              "    </tr>\n",
              "    <tr>\n",
              "      <th>505</th>\n",
              "      <td>1</td>\n",
              "      <td>1</td>\n",
              "    </tr>\n",
              "    <tr>\n",
              "      <th>506</th>\n",
              "      <td>0</td>\n",
              "      <td>1</td>\n",
              "    </tr>\n",
              "    <tr>\n",
              "      <th>507</th>\n",
              "      <td>1</td>\n",
              "      <td>1</td>\n",
              "    </tr>\n",
              "  </tbody>\n",
              "</table>\n",
              "<p>508 rows × 2 columns</p>\n",
              "</div>"
            ],
            "text/plain": [
              "     AL  PL\n",
              "0     1   1\n",
              "1     1   1\n",
              "2     0   0\n",
              "3     1   1\n",
              "4     0   1\n",
              "..   ..  ..\n",
              "503   1   1\n",
              "504   0   1\n",
              "505   1   1\n",
              "506   0   1\n",
              "507   1   1\n",
              "\n",
              "[508 rows x 2 columns]"
            ]
          },
          "metadata": {},
          "execution_count": 110
        }
      ]
    },
    {
      "cell_type": "code",
      "metadata": {
        "id": "9sqZ80iDs5VJ"
      },
      "source": [
        "CC_testlasso9 = confusion_matrix(lassocsvlabels['AL'], lassocsvlabels['PL'])\n"
      ],
      "execution_count": null,
      "outputs": []
    },
    {
      "cell_type": "code",
      "metadata": {
        "colab": {
          "base_uri": "https://localhost:8080/",
          "height": 279
        },
        "id": "KFooy6jXtUmu",
        "outputId": "c8e20a39-4b52-431f-a01d-914c752fe143"
      },
      "source": [
        "labels = ['grapes', 'coconuts']\n",
        "disp = ConfusionMatrixDisplay(confusion_matrix= CC_testlasso9, display_labels = labels )\n",
        "disp.plot(cmap=plt.cm.Blues)\n",
        "plt.show()"
      ],
      "execution_count": null,
      "outputs": [
        {
          "output_type": "display_data",
          "data": {
            "image/png": "[encoded data removed]",
            "text/plain": [
              "<Figure size 432x288 with 2 Axes>"
            ]
          },
          "metadata": {
            "needs_background": "light"
          }
        }
      ]
    },
    {
      "cell_type": "code",
      "metadata": {
        "id": "4XVhOQjXtXu6"
      },
      "source": [
        "lassocsvlabels.to_csv('t2csv_labels01_lasso.csv')"
      ],
      "execution_count": null,
      "outputs": []
    },
    {
      "cell_type": "code",
      "metadata": {
        "id": "PLaYxFCUtfMg"
      },
      "source": [
        ""
      ],
      "execution_count": null,
      "outputs": []
    }
  ]
}