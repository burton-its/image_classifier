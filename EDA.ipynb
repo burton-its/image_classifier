{
  "nbformat": 4,
  "nbformat_minor": 0,
  "metadata": {
    "colab": {
      "name": "EDA.ipynb",
      "provenance": [],
      "collapsed_sections": [],
      "authorship_tag": "ABX9TyPNRXghAsaH3sC0yh5kTa9y",
      "include_colab_link": true
    },
    "kernelspec": {
      "name": "python3",
      "display_name": "Python 3"
    },
    "language_info": {
      "name": "python"
    }
  },
  "cells": [
    {
      "cell_type": "markdown",
      "metadata": {
        "id": "view-in-github",
        "colab_type": "text"
      },
      "source": [
        "<a href=\"https://colab.research.google.com/github/burton-its/image_classifier/blob/main/EDA.ipynb\" target=\"_parent\"><img src=\"https://colab.research.google.com/assets/colab-badge.svg\" alt=\"Open In Colab\"/></a>"
      ]
    },
    {
      "cell_type": "code",
      "metadata": {
        "id": "oAXyhxZxgRKI"
      },
      "source": [
        "import numpy as np\n",
        "import pandas as pd\n",
        "import cv2 as cv\n",
        "import seaborn as sns\n",
        "import matplotlib.pyplot as plt\n"
      ],
      "execution_count": null,
      "outputs": []
    },
    {
      "cell_type": "code",
      "metadata": {
        "colab": {
          "base_uri": "https://localhost:8080/"
        },
        "id": "TRYiYlb2gdXV",
        "outputId": "f11aab83-49d5-4fe1-ccc1-cd8916a7e6da"
      },
      "source": [
        "\n",
        "\n",
        "dfgrapes = pd.read_csv('grapearray.csv', index_col=0)\n",
        "\n",
        "print(dfgrapes.head())\n",
        "print(dfgrapes.describe())"
      ],
      "execution_count": null,
      "outputs": [
        {
          "output_type": "stream",
          "name": "stdout",
          "text": [
            "    f0   f1   f2   f3   f4   f5   f6  ...  f58  f59  f60  f61  f62  f63  f64\n",
            "0  209  209  210  211  210  211  211  ...  215  214  216  213  214  215    0\n",
            "1  211  212  211  212  211  211  211  ...  215  214  215  217  217  220    0\n",
            "2  210  211  212  212  214  214  214  ...  216  218  217  217  218  219    0\n",
            "3  214  214  213  213  214  216  214  ...  218  219  218  221  219  219    0\n",
            "4  215  215  214  215  214  215  216  ...  221  221  220  221  222  219    0\n",
            "\n",
            "[5 rows x 65 columns]\n",
            "                f0           f1           f2  ...          f62          f63     f64\n",
            "count  1953.000000  1953.000000  1953.000000  ...  1953.000000  1953.000000  1953.0\n",
            "mean    200.688172   200.552483   200.484895  ...   201.236047   201.093702     0.0\n",
            "std      49.051313    49.106926    49.250738  ...    48.827315    48.833303     0.0\n",
            "min      72.000000    72.000000    76.000000  ...    70.000000    76.000000     0.0\n",
            "25%     159.000000   158.000000   158.000000  ...   159.000000   158.000000     0.0\n",
            "50%     233.000000   233.000000   233.000000  ...   233.000000   233.000000     0.0\n",
            "75%     241.000000   241.000000   241.000000  ...   242.000000   242.000000     0.0\n",
            "max     247.000000   247.000000   247.000000  ...   248.000000   248.000000     0.0\n",
            "\n",
            "[8 rows x 65 columns]\n"
          ]
        }
      ]
    },
    {
      "cell_type": "code",
      "metadata": {
        "colab": {
          "base_uri": "https://localhost:8080/",
          "height": 333
        },
        "id": "ef9C1DP7ltH2",
        "outputId": "f92483a7-9d0e-4190-e0b5-8499d69521b3"
      },
      "source": [
        "sns.distplot(dfgrapes[\"f0\"],bins = 256)\n",
        "plt.show()\n",
        "\n"
      ],
      "execution_count": null,
      "outputs": [
        {
          "output_type": "stream",
          "name": "stderr",
          "text": [
            "/usr/local/lib/python3.7/dist-packages/seaborn/distributions.py:2557: FutureWarning: `distplot` is a deprecated function and will be removed in a future version. Please adapt your code to use either `displot` (a figure-level function with similar flexibility) or `histplot` (an axes-level function for histograms).\n",
            "  warnings.warn(msg, FutureWarning)\n"
          ]
        },
        {
          "output_type": "display_data",
          "data": {
            "image/png": "[encoded data removed]",
            "text/plain": [
              "<Figure size 432x288 with 1 Axes>"
            ]
          },
          "metadata": {
            "needs_background": "light"
          }
        }
      ]
    },
    {
      "cell_type": "code",
      "metadata": {
        "colab": {
          "base_uri": "https://localhost:8080/",
          "height": 333
        },
        "id": "5r1tcFROnOoj",
        "outputId": "1fb21741-f2c1-4d20-ad07-bc59e8fade9b"
      },
      "source": [
        "sns.distplot(dfgrapes[\"f32\"],bins = 256)\n",
        "plt.show()"
      ],
      "execution_count": null,
      "outputs": [
        {
          "output_type": "stream",
          "name": "stderr",
          "text": [
            "/usr/local/lib/python3.7/dist-packages/seaborn/distributions.py:2557: FutureWarning: `distplot` is a deprecated function and will be removed in a future version. Please adapt your code to use either `displot` (a figure-level function with similar flexibility) or `histplot` (an axes-level function for histograms).\n",
            "  warnings.warn(msg, FutureWarning)\n"
          ]
        },
        {
          "output_type": "display_data",
          "data": {
            "image/png": "[encoded data removed]",
            "text/plain": [
              "<Figure size 432x288 with 1 Axes>"
            ]
          },
          "metadata": {
            "needs_background": "light"
          }
        }
      ]
    },
    {
      "cell_type": "markdown",
      "metadata": {
        "id": "tFHRRltswCrK"
      },
      "source": [
        "As you can see from the histograms and density curves, there is a small left skew."
      ]
    },
    {
      "cell_type": "code",
      "metadata": {
        "colab": {
          "base_uri": "https://localhost:8080/"
        },
        "id": "iYUR4S0ktweD",
        "outputId": "b7f58e10-e336-4f15-8c83-658a640350cb"
      },
      "source": [
        "dfcoconuts = pd.read_csv('coconutarray.csv', index_col=0)\n",
        "\n",
        "print(dfcoconuts.head())\n",
        "print(dfcoconuts.describe())"
      ],
      "execution_count": null,
      "outputs": [
        {
          "output_type": "stream",
          "name": "stdout",
          "text": [
            "    f0   f1   f2   f3   f4   f5   f6  ...  f58  f59  f60  f61  f62  f63  f64\n",
            "0  239  239  239  239  239  239  239  ...  244  244  244  244  244  244    1\n",
            "1  239  239  239  239  239  239  239  ...  243  243  244  243  243  244    1\n",
            "2  239  239  239  239  239  238  239  ...  243  243  243  243  243  243    1\n",
            "3  238  238  238  239  239  239  238  ...  243  242  241  241  240  239    1\n",
            "4  238  238  238  238  238  237  237  ...  238  238  238  238  238  238    1\n",
            "\n",
            "[5 rows x 65 columns]\n",
            "               f0           f1           f2  ...          f62          f63     f64\n",
            "count  1953.00000  1953.000000  1953.000000  ...  1953.000000  1953.000000  1953.0\n",
            "mean    147.62980   147.631848   147.650794  ...   146.582693   146.573477     1.0\n",
            "std      70.90253    70.746315    71.049285  ...    70.474100    70.211652     0.0\n",
            "min       1.00000     1.000000     1.000000  ...     1.000000     1.000000     1.0\n",
            "25%      95.00000    95.000000    94.000000  ...    95.000000    94.000000     1.0\n",
            "50%     117.00000   118.000000   118.000000  ...   118.000000   119.000000     1.0\n",
            "75%     238.00000   238.000000   238.000000  ...   237.000000   237.000000     1.0\n",
            "max     254.00000   254.000000   254.000000  ...   254.000000   254.000000     1.0\n",
            "\n",
            "[8 rows x 65 columns]\n"
          ]
        }
      ]
    },
    {
      "cell_type": "code",
      "metadata": {
        "colab": {
          "base_uri": "https://localhost:8080/",
          "height": 333
        },
        "id": "TX0ItxqNvIiM",
        "outputId": "05756dc5-54e6-486e-d72a-7909b43e679d"
      },
      "source": [
        "sns.distplot(dfcoconuts[\"f1\"], bins = 256)\n",
        "plt.show()"
      ],
      "execution_count": null,
      "outputs": [
        {
          "output_type": "stream",
          "name": "stderr",
          "text": [
            "/usr/local/lib/python3.7/dist-packages/seaborn/distributions.py:2557: FutureWarning: `distplot` is a deprecated function and will be removed in a future version. Please adapt your code to use either `displot` (a figure-level function with similar flexibility) or `histplot` (an axes-level function for histograms).\n",
            "  warnings.warn(msg, FutureWarning)\n"
          ]
        },
        {
          "output_type": "display_data",
          "data": {
            "image/png": "[encoded data removed]",
            "text/plain": [
              "<Figure size 432x288 with 1 Axes>"
            ]
          },
          "metadata": {
            "needs_background": "light"
          }
        }
      ]
    },
    {
      "cell_type": "code",
      "metadata": {
        "colab": {
          "base_uri": "https://localhost:8080/",
          "height": 333
        },
        "id": "NVrzekrJvh31",
        "outputId": "2520aea0-93a9-4cc6-ae3a-fcf7a8d31ad6"
      },
      "source": [
        "sns.distplot(dfcoconuts[\"f32\"], bins = 256)\n",
        "plt.show()"
      ],
      "execution_count": null,
      "outputs": [
        {
          "output_type": "stream",
          "name": "stderr",
          "text": [
            "/usr/local/lib/python3.7/dist-packages/seaborn/distributions.py:2557: FutureWarning: `distplot` is a deprecated function and will be removed in a future version. Please adapt your code to use either `displot` (a figure-level function with similar flexibility) or `histplot` (an axes-level function for histograms).\n",
            "  warnings.warn(msg, FutureWarning)\n"
          ]
        },
        {
          "output_type": "display_data",
          "data": {
            "image/png": "[encoded data removed]",
            "text/plain": [
              "<Figure size 432x288 with 1 Axes>"
            ]
          },
          "metadata": {
            "needs_background": "light"
          }
        }
      ]
    },
    {
      "cell_type": "markdown",
      "metadata": {
        "id": "O3juBFx6wTdZ"
      },
      "source": [
        "Bimodal distribution"
      ]
    },
    {
      "cell_type": "code",
      "metadata": {
        "colab": {
          "base_uri": "https://localhost:8080/"
        },
        "id": "uI_SrVhhvo_N",
        "outputId": "3345a99c-9c0f-423d-9eaa-6b06286355dd"
      },
      "source": [
        "dforange = pd.read_csv('orangearray.csv', index_col=0)\n",
        "\n",
        "print(dforange.head())\n",
        "print(dforange.describe())"
      ],
      "execution_count": null,
      "outputs": [
        {
          "output_type": "stream",
          "name": "stdout",
          "text": [
            "   f0  f1  f2  f3  f4  f5  f6  f7  ...  f57  f58  f59  f60  f61  f62  f63  f64\n",
            "0   5   5   5   5   5   5   5   5  ...    4    4    4    4    4    4    4    2\n",
            "1   5   5   5   5   5   5   5   5  ...    5    4    4    4    4    4    5    2\n",
            "2   5   5   5   5   5   5   5   5  ...    4    4    4    4    4    4    5    2\n",
            "3   5   5   5   5   5   5   5   5  ...    4    4    5    4    4    4    5    2\n",
            "4   5   5   5   5   5   5   5   5  ...    5    5    4    4    4    4    4    2\n",
            "\n",
            "[5 rows x 65 columns]\n",
            "                f0           f1           f2  ...          f62          f63     f64\n",
            "count  1953.000000  1953.000000  1953.000000  ...  1953.000000  1953.000000  1953.0\n",
            "mean     91.032770    91.228879    91.274450  ...    93.120840    92.954941     2.0\n",
            "std      75.423775    75.475625    75.468702  ...    74.289253    74.358341     0.0\n",
            "min       2.000000     2.000000     2.000000  ...     2.000000     2.000000     2.0\n",
            "25%       9.000000     9.000000     9.000000  ...    11.000000    12.000000     2.0\n",
            "50%      92.000000    93.000000    93.000000  ...    95.000000    94.000000     2.0\n",
            "75%     152.000000   152.000000   155.000000  ...   154.000000   153.000000     2.0\n",
            "max     254.000000   252.000000   252.000000  ...   255.000000   254.000000     2.0\n",
            "\n",
            "[8 rows x 65 columns]\n"
          ]
        }
      ]
    },
    {
      "cell_type": "code",
      "metadata": {
        "colab": {
          "base_uri": "https://localhost:8080/",
          "height": 333
        },
        "id": "Pr3LWf48v0Dj",
        "outputId": "836e2af9-071e-4136-d1b7-770dc3e5c466"
      },
      "source": [
        "sns.distplot(dforange[\"f1\"], bins = 256)\n",
        "plt.show()"
      ],
      "execution_count": null,
      "outputs": [
        {
          "output_type": "stream",
          "name": "stderr",
          "text": [
            "/usr/local/lib/python3.7/dist-packages/seaborn/distributions.py:2557: FutureWarning: `distplot` is a deprecated function and will be removed in a future version. Please adapt your code to use either `displot` (a figure-level function with similar flexibility) or `histplot` (an axes-level function for histograms).\n",
            "  warnings.warn(msg, FutureWarning)\n"
          ]
        },
        {
          "output_type": "display_data",
          "data": {
            "image/png": "[encoded data removed]",
            "text/plain": [
              "<Figure size 432x288 with 1 Axes>"
            ]
          },
          "metadata": {
            "needs_background": "light"
          }
        }
      ]
    },
    {
      "cell_type": "code",
      "metadata": {
        "colab": {
          "base_uri": "https://localhost:8080/",
          "height": 333
        },
        "id": "g96gVF0zv4jv",
        "outputId": "373474a9-9142-4b8d-f449-ae387a1f8376"
      },
      "source": [
        "sns.distplot(dforange[\"f32\"], bins = 256)\n",
        "plt.show()"
      ],
      "execution_count": null,
      "outputs": [
        {
          "output_type": "stream",
          "name": "stderr",
          "text": [
            "/usr/local/lib/python3.7/dist-packages/seaborn/distributions.py:2557: FutureWarning: `distplot` is a deprecated function and will be removed in a future version. Please adapt your code to use either `displot` (a figure-level function with similar flexibility) or `histplot` (an axes-level function for histograms).\n",
            "  warnings.warn(msg, FutureWarning)\n"
          ]
        },
        {
          "output_type": "display_data",
          "data": {
            "image/png": "[encoded data removed]",
            "text/plain": [
              "<Figure size 432x288 with 1 Axes>"
            ]
          },
          "metadata": {
            "needs_background": "light"
          }
        }
      ]
    },
    {
      "cell_type": "markdown",
      "metadata": {
        "id": "pe3YfmYfwbNx"
      },
      "source": [
        "right skew\n"
      ]
    },
    {
      "cell_type": "markdown",
      "metadata": {
        "id": "Z_ga0LqOwg6Z"
      },
      "source": [
        "Data from all feature maps seem balanced with 1953 observations per image along with 0-63(64 total) features or dimensions.\n",
        "As far as (n,p,c) it appears to be a large number of observations and a large number of features which corresponds to massive data. But I would hesitate to classify this as \"Big Data\" yet without velocity and variety, considering we only have three images. "
      ]
    },
    {
      "cell_type": "code",
      "metadata": {
        "id": "9rQ6tycQ2HDx"
      },
      "source": [
        ""
      ],
      "execution_count": null,
      "outputs": []
    }
  ]
}