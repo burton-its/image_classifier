{
  "nbformat": 4,
  "nbformat_minor": 0,
  "metadata": {
    "colab": {
      "name": "grapestats.ipynb",
      "provenance": [],
      "collapsed_sections": [],
      "authorship_tag": "ABX9TyP2zrlWrAnvMqYf6N9G5owb",
      "include_colab_link": true
    },
    "kernelspec": {
      "name": "python3",
      "display_name": "Python 3"
    },
    "language_info": {
      "name": "python"
    }
  },
  "cells": [
    {
      "cell_type": "markdown",
      "metadata": {
        "id": "view-in-github",
        "colab_type": "text"
      },
      "source": [
        "<a href=\"https://colab.research.google.com/github/burton-its/image_classifier/blob/main/grapestats.ipynb\" target=\"_parent\"><img src=\"https://colab.research.google.com/assets/colab-badge.svg\" alt=\"Open In Colab\"/></a>"
      ]
    },
    {
      "cell_type": "code",
      "metadata": {
        "id": "oAXyhxZxgRKI"
      },
      "source": [
        "import numpy as np\n",
        "import pandas as pd\n",
        "import cv2 as cv\n",
        "import seaborn as sns\n",
        "import matplotlib.pyplot as plt\n"
      ],
      "execution_count": 1,
      "outputs": []
    },
    {
      "cell_type": "code",
      "metadata": {
        "colab": {
          "base_uri": "https://localhost:8080/"
        },
        "id": "TRYiYlb2gdXV",
        "outputId": "f11aab83-49d5-4fe1-ccc1-cd8916a7e6da"
      },
      "source": [
        "\n",
        "\n",
        "dfgrapes = pd.read_csv('grapearray.csv', index_col=0)\n",
        "\n",
        "print(dfgrapes.head())\n",
        "print(dfgrapes.describe())"
      ],
      "execution_count": 3,
      "outputs": [
        {
          "output_type": "stream",
          "name": "stdout",
          "text": [
            "    f0   f1   f2   f3   f4   f5   f6  ...  f58  f59  f60  f61  f62  f63  f64\n",
            "0  209  209  210  211  210  211  211  ...  215  214  216  213  214  215    0\n",
            "1  211  212  211  212  211  211  211  ...  215  214  215  217  217  220    0\n",
            "2  210  211  212  212  214  214  214  ...  216  218  217  217  218  219    0\n",
            "3  214  214  213  213  214  216  214  ...  218  219  218  221  219  219    0\n",
            "4  215  215  214  215  214  215  216  ...  221  221  220  221  222  219    0\n",
            "\n",
            "[5 rows x 65 columns]\n",
            "                f0           f1           f2  ...          f62          f63     f64\n",
            "count  1953.000000  1953.000000  1953.000000  ...  1953.000000  1953.000000  1953.0\n",
            "mean    200.688172   200.552483   200.484895  ...   201.236047   201.093702     0.0\n",
            "std      49.051313    49.106926    49.250738  ...    48.827315    48.833303     0.0\n",
            "min      72.000000    72.000000    76.000000  ...    70.000000    76.000000     0.0\n",
            "25%     159.000000   158.000000   158.000000  ...   159.000000   158.000000     0.0\n",
            "50%     233.000000   233.000000   233.000000  ...   233.000000   233.000000     0.0\n",
            "75%     241.000000   241.000000   241.000000  ...   242.000000   242.000000     0.0\n",
            "max     247.000000   247.000000   247.000000  ...   248.000000   248.000000     0.0\n",
            "\n",
            "[8 rows x 65 columns]\n"
          ]
        }
      ]
    },
    {
      "cell_type": "code",
      "metadata": {
        "colab": {
          "base_uri": "https://localhost:8080/",
          "height": 369
        },
        "id": "ef9C1DP7ltH2",
        "outputId": "9031b043-fec2-4398-af09-e79d6ba6cc97"
      },
      "source": [
        "sns.displot(dfgrapes[\"f0\"],bins = 256)\n",
        "plt.show()\n",
        "\n"
      ],
      "execution_count": 6,
      "outputs": [
        {
          "output_type": "display_data",
          "data": {
            "image/png": "[encoded data removed]",
            "text/plain": [
              "<Figure size 360x360 with 1 Axes>"
            ]
          },
          "metadata": {
            "needs_background": "light"
          }
        }
      ]
    },
    {
      "cell_type": "code",
      "metadata": {
        "colab": {
          "base_uri": "https://localhost:8080/",
          "height": 369
        },
        "id": "5r1tcFROnOoj",
        "outputId": "03b0dc74-fefd-45f2-b5fe-56f53fe7dc57"
      },
      "source": [
        "sns.displot(dfgrapes[\"f32\"],bins = 256)\n",
        "plt.show()"
      ],
      "execution_count": 8,
      "outputs": [
        {
          "output_type": "display_data",
          "data": {
            "image/png": "[encoded data removed]",
            "text/plain": [
              "<Figure size 360x360 with 1 Axes>"
            ]
          },
          "metadata": {
            "needs_background": "light"
          }
        }
      ]
    }
  ]
}